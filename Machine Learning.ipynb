{
 "cells": [
  {
   "cell_type": "markdown",
   "metadata": {},
   "source": [
    "# Introducción al Machine Learning"
   ]
  },
  {
   "cell_type": "markdown",
   "metadata": {},
   "source": [
    "La idea es usar tecnicas de **Machine Learning** para determinar qué propiedades fisicoquímicas hacen a la calidad de un vino.\n",
    "\n",
    "Esta tarea fue publicada originalmente en: *P. Cortez, A. Cerdeira, F. Almeida, T. Matos and J. Reis. Modeling wine preferences by data mining from physicochemical properties. In Decision Support Systems, Elsevier, 47(4):547-553, 2009.*"
   ]
  },
  {
   "cell_type": "code",
   "execution_count": null,
   "metadata": {
    "collapsed": true
   },
   "outputs": [],
   "source": [
    "# Importa las librerias a utilzar\n",
    "%matplotlib inline\n",
    "import numpy as np\n",
    "import pandas as pd\n",
    "import matplotlib.pyplot as plt\n",
    "import seaborn as sns\n",
    "sns.set(font_scale=1.2)\n",
    "from sklearn.metrics import accuracy_score ,confusion_matrix, f1_score, precision_score, recall_score\n",
    "from sklearn.model_selection import train_test_split, GridSearchCV\n",
    "from sklearn.tree import DecisionTreeClassifier\n",
    "from sklearn.ensemble import RandomForestClassifier"
   ]
  },
  {
   "cell_type": "code",
   "execution_count": null,
   "metadata": {},
   "outputs": [],
   "source": [
    "# Carga el dataset de vinos rojos \n",
    "data_red = pd.read_csv(\"./data/winequality-red.csv\", sep=';')\n",
    "# Muestra los primeros 5 registros\n",
    "data_red.head(n=5)"
   ]
  },
  {
   "cell_type": "code",
   "execution_count": null,
   "metadata": {},
   "outputs": [],
   "source": [
    "data_red.shape"
   ]
  },
  {
   "cell_type": "markdown",
   "metadata": {},
   "source": [
    "# Parte 1: Exploracion de los datos"
   ]
  },
  {
   "cell_type": "code",
   "execution_count": null,
   "metadata": {},
   "outputs": [],
   "source": [
    "# accede a la Serie de \"quality\"\n",
    "data_red[\"quality\"]"
   ]
  },
  {
   "cell_type": "code",
   "execution_count": null,
   "metadata": {},
   "outputs": [],
   "source": [
    "# cuenta cuantos vinos hay de cada calidad\n",
    "data_red[\"quality\"].value_counts()"
   ]
  },
  {
   "cell_type": "code",
   "execution_count": null,
   "metadata": {},
   "outputs": [],
   "source": [
    "# grafico de barras\n",
    "data_red[\"quality\"].value_counts().sort_index().plot.bar(color=\"darkgreen\");"
   ]
  },
  {
   "cell_type": "code",
   "execution_count": null,
   "metadata": {},
   "outputs": [],
   "source": [
    "# agrega una nueva columna llamado \"calidad\".\n",
    "# Baja: quality < 5.5\n",
    "# Alta: quality > 5.5\n",
    "data_red[\"calidad\"] = pd.cut(data_red['quality'], bins=[0, 5.5, 10], labels=[\"Baja\",\"Alta\"])"
   ]
  },
  {
   "cell_type": "code",
   "execution_count": null,
   "metadata": {},
   "outputs": [],
   "source": [
    "data_red.head()"
   ]
  },
  {
   "cell_type": "markdown",
   "metadata": {},
   "source": [
    "### Separacion en Training y Testing sets: "
   ]
  },
  {
   "cell_type": "code",
   "execution_count": null,
   "metadata": {},
   "outputs": [],
   "source": [
    "# separa en features (X) y etiquetas (Y)\n",
    "X = data_red.iloc[:,:11]\n",
    "Y = data_red[\"calidad\"]"
   ]
  },
  {
   "cell_type": "code",
   "execution_count": null,
   "metadata": {},
   "outputs": [],
   "source": [
    "X_train, X_test, y_train, y_test = train_test_split(X, Y, test_size=0.2, random_state=0)"
   ]
  },
  {
   "cell_type": "code",
   "execution_count": null,
   "metadata": {},
   "outputs": [],
   "source": [
    "X_train.shape"
   ]
  },
  {
   "cell_type": "code",
   "execution_count": null,
   "metadata": {},
   "outputs": [],
   "source": [
    "X_test.shape"
   ]
  },
  {
   "cell_type": "code",
   "execution_count": null,
   "metadata": {},
   "outputs": [],
   "source": [
    "data_train = pd.concat([X_train,y_train],axis=1)\n",
    "data_train.head()"
   ]
  },
  {
   "cell_type": "markdown",
   "metadata": {},
   "source": [
    "### Exploración de los features"
   ]
  },
  {
   "cell_type": "code",
   "execution_count": null,
   "metadata": {},
   "outputs": [],
   "source": [
    "# Por cada feature se hace n dos histograma\n",
    "\n",
    "# configura los los paneles\n",
    "plt.subplots(ncols=4,nrows=3,figsize=(16,16))\n",
    "# itera por todos los features\n",
    "for i,columna in enumerate(data_train.columns[:11]):\n",
    "    #selecciona el panel\n",
    "    plt.subplot(4,3,i+1)\n",
    "    \n",
    "    # grafica los dos histogramas\n",
    "    _, bins, _ = plt.hist(data_train[data_train.calidad==\"Alta\"][columna],label=\"Alta\", alpha=0.5, density=True)\n",
    "    plt.hist(data_train[data_train.calidad==\"Baja\"][columna], bins=bins, label=\"Baja\", alpha=0.5, density=True);\n",
    "    # incluye titulo\n",
    "    plt.title(columna)\n",
    "    # incluye leyenda\n",
    "    plt.legend()\n",
    "\n",
    "# ajusta los paneles\n",
    "plt.tight_layout()"
   ]
  },
  {
   "cell_type": "markdown",
   "metadata": {},
   "source": [
    "### Scatterplots y Densidades"
   ]
  },
  {
   "cell_type": "code",
   "execution_count": null,
   "metadata": {},
   "outputs": [],
   "source": [
    "# Scatterplot\n",
    "ax = sns.scatterplot(x=\"sulphates\", y=\"volatile acidity\", data=data_train[data_train.calidad==\"Alta\"],color=\"blue\",alpha=0.5,s=10,label=\"Alta\")\n",
    "sns.scatterplot(x=\"sulphates\", y=\"volatile acidity\", data=data_train[data_train.calidad==\"Baja\"],ax=ax,color=\"red\",alpha=0.5,s=10,label=\"Baja\")\n",
    "\n",
    "# setea limites de los ejes\n",
    "ax.set_xlim((0.25,1));\n",
    "ax.set_ylim((0.1,1.25));\n",
    "\n",
    "# ajusta bordes\n",
    "plt.tight_layout()\n",
    "\n",
    "# guarda figura\n",
    "plt.savefig(\"red_wine_scatterplot1.png\")"
   ]
  },
  {
   "cell_type": "code",
   "execution_count": null,
   "metadata": {},
   "outputs": [],
   "source": [
    "# Separa el dataset segun la calidad\n",
    "data_alta = data_train[data_train.calidad==\"Alta\"]\n",
    "data_baja = data_train[data_train.calidad==\"Baja\"]\n",
    "\n",
    "# graficos de densidades\n",
    "sns.kdeplot(data_alta[\"sulphates\"], data_alta[\"volatile acidity\"],cmap=\"Blues\")\n",
    "ax = sns.kdeplot(data_baja[\"sulphates\"], data_baja[\"volatile acidity\"],cmap=\"Reds\")\n",
    "\n",
    "# setea limites de los ejes\n",
    "ax.set_xlim((0.25,1));\n",
    "ax.set_ylim((0.1,1.25));"
   ]
  },
  {
   "cell_type": "code",
   "execution_count": null,
   "metadata": {},
   "outputs": [],
   "source": [
    "# Separa el dataset segun la calidad\n",
    "data_alta = data_train[data_train.calidad==\"Alta\"]\n",
    "data_baja = data_train[data_train.calidad==\"Baja\"]\n",
    "\n",
    "# scatterplots\n",
    "ax = sns.scatterplot(x=\"sulphates\", y=\"volatile acidity\", data=data_alta,color=\"blue\",alpha=0.5,s=10,label=\"Alta\")\n",
    "sns.scatterplot(x=\"sulphates\", y=\"volatile acidity\", data=data_baja,ax=ax,color=\"red\",alpha=0.5,s=10,label=\"Baja\")\n",
    "\n",
    "# graficos de densidades\n",
    "sns.kdeplot(data_alta[\"sulphates\"], data_alta[\"volatile acidity\"],cmap=\"Blues\")\n",
    "sns.kdeplot(data_baja[\"sulphates\"], data_baja[\"volatile acidity\"],cmap=\"Reds\")\n",
    "\n",
    "# setea limites de los ejes\n",
    "ax.set_xlim((0.25,1));\n",
    "ax.set_ylim((0.1,1.25));"
   ]
  },
  {
   "cell_type": "markdown",
   "metadata": {},
   "source": [
    "### No todos los features son tan utiles para separar las clases"
   ]
  },
  {
   "cell_type": "code",
   "execution_count": null,
   "metadata": {},
   "outputs": [],
   "source": [
    "# scatterplots\n",
    "ax = sns.scatterplot(x=\"free sulfur dioxide\", y=\"pH\", data=data_alta,color=\"blue\",alpha=0.5,s=10,label=\"Alta\");\n",
    "sns.scatterplot(x=\"free sulfur dioxide\", y=\"pH\", data=data_baja,ax=ax,color=\"red\",alpha=0.5,s=10,label=\"Baja\");\n",
    "\n",
    "# graficos de densidades\n",
    "sns.kdeplot(data_alta[\"free sulfur dioxide\"], data_alta[\"pH\"],cmap=\"Blues\")\n",
    "sns.kdeplot(data_baja[\"free sulfur dioxide\"], data_baja[\"pH\"],cmap=\"Reds\")\n",
    "\n",
    "# setea limites de los ejes\n",
    "ax.set_xlim((1.2,30));\n",
    "ax.set_ylim((2.9,3.8));\n",
    "\n",
    "# ajusta bordes\n",
    "plt.tight_layout()\n",
    "\n",
    "# guarda figura\n",
    "plt.savefig(\"red_wine_scatterplot2.png\")"
   ]
  },
  {
   "cell_type": "markdown",
   "metadata": {},
   "source": [
    "## Clasificación de vinos con lineas verticales y horizontales\n",
    "### Ejemplo con dos features"
   ]
  },
  {
   "cell_type": "code",
   "execution_count": null,
   "metadata": {},
   "outputs": [],
   "source": [
    "# graficos de densidades\n",
    "sns.kdeplot(data_alta[\"sulphates\"], data_alta[\"alcohol\"],cmap=\"Blues\")\n",
    "ax = sns.kdeplot(data_baja[\"sulphates\"], data_baja[\"alcohol\"],cmap=\"Reds\")\n",
    "\n",
    "# scatterplots\n",
    "sns.scatterplot(x=\"sulphates\", y=\"alcohol\", data=data_alta,ax=ax,color=\"blue\",alpha=0.7,s=10,label=\"Alta\");\n",
    "sns.scatterplot(x=\"sulphates\", y=\"alcohol\", data=data_baja,ax=ax,color=\"red\",alpha=0.7,s=10,label=\"Baja\");\n",
    "\n",
    "# setea limites de los ejes\n",
    "ax.set_xlim((0.25,1.5));\n",
    "ax.set_ylim((8,15))"
   ]
  },
  {
   "cell_type": "code",
   "execution_count": null,
   "metadata": {},
   "outputs": [],
   "source": [
    "# graficos de densidades\n",
    "sns.kdeplot(data_alta[\"sulphates\"], data_alta[\"alcohol\"],cmap=\"Blues\")\n",
    "ax = sns.kdeplot(data_baja[\"sulphates\"], data_baja[\"alcohol\"],cmap=\"Reds\")\n",
    "\n",
    "# scatterplots\n",
    "sns.scatterplot(x=\"sulphates\", y=\"alcohol\", data=data_alta,ax=ax,color=\"blue\",alpha=0.7,s=10,label=\"Alta\");\n",
    "sns.scatterplot(x=\"sulphates\", y=\"alcohol\", data=data_baja,ax=ax,color=\"red\",alpha=0.7,s=10,label=\"Baja\");\n",
    "\n",
    "# setea limites de los ejes\n",
    "ax.set_xlim((0.25,1.5));\n",
    "ax.set_ylim((8,15))\n",
    "\n",
    "# agrega linea vertical y horizontal\n",
    "plt.vlines(x=0.7,ymin=8, ymax=15,color=\"black\")\n",
    "plt.axhline(y = 10,color=\"black\")\n"
   ]
  },
  {
   "cell_type": "code",
   "execution_count": null,
   "metadata": {},
   "outputs": [],
   "source": [
    "# arma un clasificador con reglas\n",
    "def detector_de_vinos_de_calidad_alta(x):\n",
    "    if x[\"alcohol\"]>10:\n",
    "        return \"Alta\"\n",
    "    elif x[\"sulphates\"]>0.7:\n",
    "        return \"Alta\"\n",
    "    else:\n",
    "        return \"Baja\""
   ]
  },
  {
   "cell_type": "code",
   "execution_count": null,
   "metadata": {},
   "outputs": [],
   "source": [
    "# clasifica los vinos del test set con mi \"detector_de_vinos_de_calidad_alta\"\n",
    "y_predicted = X_test.apply(detector_de_vinos_de_calidad_alta,axis=1)\n",
    "# calcula precision, recall y f-score\n",
    "print(\"precision:\",precision_score(y_test,y_predicted,pos_label=\"Alta\") )\n",
    "print(\"recall:\",recall_score(y_test,y_predicted,pos_label=\"Alta\") )\n",
    "print(\"f-score:\",f1_score(y_test,y_predicted,pos_label=\"Alta\") ) \n"
   ]
  },
  {
   "cell_type": "code",
   "execution_count": null,
   "metadata": {},
   "outputs": [],
   "source": [
    "# Arma la matriz de confusion\n",
    "CM = confusion_matrix(y_test,y_predicted, labels=[\"Alta\",\"Baja\"])\n",
    "pd.DataFrame(CM,index=[\"True Alta\",\"True Baja\"],columns=[\"predicted Alta\",\"predicted Baja\"])"
   ]
  },
  {
   "cell_type": "markdown",
   "metadata": {},
   "source": [
    "#### Comparo con una clasificacion Random"
   ]
  },
  {
   "cell_type": "code",
   "execution_count": null,
   "metadata": {},
   "outputs": [],
   "source": [
    "# clasificador aleatoreo que mantiene la proporcion de vinos buenos\n",
    "calidad_random = np.random.permutation(np.array(y_test))\n",
    "\n",
    "# calcula el: precision, recall y f-score\n",
    "print(\"precision:\",precision_score(y_test,calidad_random,pos_label=\"Alta\") )\n",
    "print(\"recall:\",recall_score(y_test,calidad_random,pos_label=\"Alta\") )\n",
    "print(\"f-score:\",f1_score(y_test,calidad_random,pos_label=\"Alta\") ) "
   ]
  },
  {
   "cell_type": "code",
   "execution_count": null,
   "metadata": {},
   "outputs": [],
   "source": [
    "# Matriz de confusion con las clasificaciones shufleadas\n",
    "CM_random = confusion_matrix(y_test,calidad_random, labels=[\"Alta\",\"Baja\"])\n",
    "pd.DataFrame(CM_random,index=[\"True Alta\",\"True Baja\"],columns=[\"predicted Alta\",\"predicted Baja\"])"
   ]
  },
  {
   "cell_type": "markdown",
   "metadata": {},
   "source": [
    "# Hacer esto con todas las variables es demasiado tedioso e impreciso\n",
    "# El Machine Learning viene a hacer este trabajo"
   ]
  },
  {
   "cell_type": "markdown",
   "metadata": {},
   "source": [
    "<img src=\"/data/images.png\">"
   ]
  },
  {
   "cell_type": "markdown",
   "metadata": {},
   "source": [
    "---------------------------------------"
   ]
  },
  {
   "cell_type": "markdown",
   "metadata": {},
   "source": [
    "# Parte 2: Machine Learning"
   ]
  },
  {
   "cell_type": "code",
   "execution_count": null,
   "metadata": {},
   "outputs": [],
   "source": [
    "# pasa a booleanos las etiquetas (True si la calidad es alta, sino False)\n",
    "y_train_bool = y_train==\"Alta\" \n",
    "y_test_bool = y_test==\"Alta\" "
   ]
  },
  {
   "cell_type": "markdown",
   "metadata": {},
   "source": [
    "## Arboles de Decision"
   ]
  },
  {
   "cell_type": "code",
   "execution_count": null,
   "metadata": {},
   "outputs": [],
   "source": [
    "# define el modelo de Clasificacion\n",
    "clf_tree = DecisionTreeClassifier()\n",
    "\n",
    "# parametros a variar \n",
    "parameters = {'max_features': [3,5,7],\"max_depth\":[5,10,None] }\n",
    "\n",
    "# define un grid search a realizar \n",
    "grid_search_tree = GridSearchCV(clf_tree, parameters,scoring='f1',cv=5,n_jobs=-1)\n",
    "\n",
    "# realiza el grid search evaluando el modelo en un esquema de Cross-Validation\n",
    "grid_search_tree.fit(X_train, y_train_bool)\n",
    "\n",
    "# selecciona el mejor modelo (mejor set de parametros)\n",
    "best_clf_tree = grid_search_tree.best_estimator_\n",
    "print(\"max_features:\",best_clf_tree.max_features,\"; max_depth:\",best_clf_tree.max_depth)"
   ]
  },
  {
   "cell_type": "markdown",
   "metadata": {},
   "source": [
    "#### Ahora puedo \"predecir\" si un nuevo vino es de alta calidad"
   ]
  },
  {
   "cell_type": "code",
   "execution_count": null,
   "metadata": {},
   "outputs": [],
   "source": [
    "X_test.iloc[0]"
   ]
  },
  {
   "cell_type": "code",
   "execution_count": null,
   "metadata": {},
   "outputs": [],
   "source": [
    "# clasifica el primer elemento del testing set\n",
    "best_clf_tree.predict([X_test.iloc[0]])"
   ]
  },
  {
   "cell_type": "code",
   "execution_count": null,
   "metadata": {},
   "outputs": [],
   "source": [
    "# clasifica el test-set usando el mejor modelo\n",
    "predictions_tree = best_clf_tree.predict(X_test)\n",
    "print(\"f-score =\",f1_score(y_test_bool, predictions_tree))"
   ]
  },
  {
   "cell_type": "code",
   "execution_count": null,
   "metadata": {},
   "outputs": [],
   "source": [
    "# Calcula el fscore y la Matriz de Confusion\n",
    "CM_Tree= confusion_matrix(y_test_bool,predictions_tree)\n",
    "pd.DataFrame(CM_Tree,index=[\"True Alta\",\"True Baja\"],columns=[\"predicted Alta\",\"predicted Baja\"])"
   ]
  },
  {
   "cell_type": "code",
   "execution_count": null,
   "metadata": {},
   "outputs": [],
   "source": [
    "# Visualiza el arbol de decision\n",
    "import graphviz \n",
    "from sklearn import tree\n",
    "arbol = tree.export_graphviz(best_clf_tree, out_file=None,feature_names=X_train.columns,filled=True, rounded=True)  \n",
    "graphviz.Source(arbol).render(\"arbol_de_decision\") "
   ]
  },
  {
   "cell_type": "markdown",
   "metadata": {},
   "source": [
    "## Modelos mas Interesantes (Random Forest)"
   ]
  },
  {
   "cell_type": "code",
   "execution_count": null,
   "metadata": {},
   "outputs": [],
   "source": [
    "# define el modelo de Clasificacion\n",
    "clf_RF= RandomForestClassifier(class_weight=\"balanced\")\n",
    "# parametros a variar \n",
    "parameters = {'n_estimators':[100],'max_features': [3,5,7],\"max_depth\":[5,10,None] }\n",
    "# define un grid search a realizar \n",
    "grid_search_RF = GridSearchCV(clf_RF, parameters,scoring='f1',cv=5,n_jobs=-1)\n",
    "# realiza el grid search evaluando el modelo en un esquema de Cross-Validation\n",
    "grid_search_RF.fit(X_train, y_train_bool)\n",
    "# selecciona el mejor modelo (mejor set de parametros)\n",
    "best_clf_RF = grid_search_RF.best_estimator_\n",
    "print(\"n_estimators:\",best_clf_RF.n_estimators,\"; max_features:\",best_clf_RF.max_features,\"; max_depth:\",best_clf_RF.max_depth)\n",
    "# Clasifica el test-set usando el mejor modelo\n",
    "predictions_RF = best_clf_RF.predict(X_test)\n"
   ]
  },
  {
   "cell_type": "code",
   "execution_count": null,
   "metadata": {},
   "outputs": [],
   "source": [
    "# Calcula el fscore y la Matriz de Confusion\n",
    "print (\"f-score =\",f1_score(y_test_bool, predictions_RF))\n",
    "CM_RF = confusion_matrix(y_test_bool,predictions_RF, labels=[True,False])\n",
    "pd.DataFrame(CM_RF,index=[\"True Alta\",\"True Baja\"],columns=[\"predicted Alta\",\"predicted Baja\"])"
   ]
  },
  {
   "cell_type": "markdown",
   "metadata": {},
   "source": [
    "## Calculo de la importancia de los feature\n"
   ]
  },
  {
   "cell_type": "code",
   "execution_count": null,
   "metadata": {},
   "outputs": [],
   "source": [
    "pd.Series(best_clf_RF.feature_importances_,index=X_train.columns).sort_values(ascending=False).plot(kind=\"bar\",color=\"darkgreen\");"
   ]
  },
  {
   "cell_type": "markdown",
   "metadata": {},
   "source": [
    "## Comparacion de Modelos"
   ]
  },
  {
   "cell_type": "code",
   "execution_count": null,
   "metadata": {},
   "outputs": [],
   "source": [
    "resultados = pd.Series({\"Random\":f1_score(y_test_bool,calidad_random==\"Alta\"),\n",
    "           \"A_ojo\":f1_score(y_test_bool,y_predicted==\"Alta\"),\n",
    "           \"Arboles\":f1_score(y_test_bool,predictions_tree),\n",
    "           \"Random Forest\":f1_score(y_test_bool,predictions_RF)})\n",
    "resultados.plot(kind=\"bar\",color=\"Darkgreen\")\n",
    "plt.ylabel(\"F-score\"); plt.ylim((0.5));"
   ]
  },
  {
   "cell_type": "code",
   "execution_count": null,
   "metadata": {},
   "outputs": [],
   "source": []
  }
 ],
 "metadata": {
  "kernelspec": {
   "display_name": "Python 3",
   "language": "python",
   "name": "python3"
  },
  "language_info": {
   "codemirror_mode": {
    "name": "ipython",
    "version": 3
   },
   "file_extension": ".py",
   "mimetype": "text/x-python",
   "name": "python",
   "nbconvert_exporter": "python",
   "pygments_lexer": "ipython3",
   "version": "3.7.0"
  }
 },
 "nbformat": 4,
 "nbformat_minor": 2
}
